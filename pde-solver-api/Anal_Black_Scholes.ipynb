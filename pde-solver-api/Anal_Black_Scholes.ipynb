{
  "nbformat": 4,
  "nbformat_minor": 0,
  "metadata": {
    "colab": {
      "provenance": []
    },
    "kernelspec": {
      "name": "python3",
      "display_name": "Python 3"
    },
    "language_info": {
      "name": "python"
    }
  },
  "cells": [
    {
      "cell_type": "markdown",
      "source": [
        "In this project, we set the task of arbitration in the crypto market.\n",
        "\n",
        "Let's take the Black-Scholes model for options as a starting point."
      ],
      "metadata": {
        "id": "RI3XS6ZFUhNF"
      }
    },
    {
      "cell_type": "code",
      "source": [
        "from IPython.display import Math, display\n",
        "\n",
        "# Black–Scholes PDE in LaTeX\n",
        "bs_pde = (\n",
        "    r\"\\frac{\\partial V}{\\partial t}\"\n",
        "    r\"+\\frac{1}{2}\\sigma^{2} S^{2}\\frac{\\partial^{2} V}{\\partial S^{2}}\"\n",
        "    r\"+(r-q) S \\frac{\\partial V}{\\partial S}\"\n",
        "    r\"- r V = 0\"\n",
        ")\n",
        "\n",
        "display(Math(r\"\\text{Black-Scholes equation:}\"))\n",
        "display(Math(bs_pde))"
      ],
      "metadata": {
        "colab": {
          "base_uri": "https://localhost:8080/",
          "height": 74
        },
        "id": "SsCmU-OfVnlQ",
        "outputId": "5df06084-3f53-4775-d034-3e5c9a85abe6"
      },
      "execution_count": 1,
      "outputs": [
        {
          "output_type": "display_data",
          "data": {
            "text/plain": [
              "<IPython.core.display.Math object>"
            ],
            "text/latex": "$\\displaystyle \\text{Black-Scholes equation:}$"
          },
          "metadata": {}
        },
        {
          "output_type": "display_data",
          "data": {
            "text/plain": [
              "<IPython.core.display.Math object>"
            ],
            "text/latex": "$\\displaystyle \\frac{\\partial V}{\\partial t}+\\frac{1}{2}\\sigma^{2} S^{2}\\frac{\\partial^{2} V}{\\partial S^{2}}+(r-q) S \\frac{\\partial V}{\\partial S}- r V = 0$"
          },
          "metadata": {}
        }
      ]
    },
    {
      "cell_type": "markdown",
      "source": [
        "There is an analytical solution for European-type options:"
      ],
      "metadata": {
        "id": "UGFWnGSOU_05"
      }
    },
    {
      "cell_type": "code",
      "execution_count": 2,
      "metadata": {
        "colab": {
          "base_uri": "https://localhost:8080/",
          "height": 195
        },
        "id": "eyJmsDmJUSEJ",
        "outputId": "c493fc83-a6e3-43d5-fa04-9cbefff37dbf"
      },
      "outputs": [
        {
          "output_type": "stream",
          "name": "stdout",
          "text": [
            "The formula for the European call option:\n"
          ]
        },
        {
          "output_type": "display_data",
          "data": {
            "text/plain": [
              "<IPython.core.display.Math object>"
            ],
            "text/latex": "$\\displaystyle - K N{\\left(- \\sqrt{T} \\sigma + \\frac{T \\left(- q + r + \\frac{\\sigma^{2}}{2}\\right) + \\log{\\left(\\frac{S}{K} \\right)}}{\\sqrt{T} \\sigma} \\right)} e^{- T r} + S N{\\left(\\frac{T \\left(- q + r + \\frac{\\sigma^{2}}{2}\\right) + \\log{\\left(\\frac{S}{K} \\right)}}{\\sqrt{T} \\sigma} \\right)} e^{- T q}$"
          },
          "metadata": {}
        },
        {
          "output_type": "stream",
          "name": "stdout",
          "text": [
            "\n",
            "The formula for the European put option:\n"
          ]
        },
        {
          "output_type": "display_data",
          "data": {
            "text/plain": [
              "<IPython.core.display.Math object>"
            ],
            "text/latex": "$\\displaystyle K N{\\left(\\sqrt{T} \\sigma - \\frac{T \\left(- q + r + \\frac{\\sigma^{2}}{2}\\right) + \\log{\\left(\\frac{S}{K} \\right)}}{\\sqrt{T} \\sigma} \\right)} e^{- T r} - S N{\\left(- \\frac{T \\left(- q + r + \\frac{\\sigma^{2}}{2}\\right) + \\log{\\left(\\frac{S}{K} \\right)}}{\\sqrt{T} \\sigma} \\right)} e^{- T q}$"
          },
          "metadata": {}
        }
      ],
      "source": [
        "import sympy as sp\n",
        "from sympy import symbols, log, sqrt, exp, latex\n",
        "\n",
        "# Initialization of symbolic variables\n",
        "sigma, T, S, K, r, q = symbols('sigma T S K r q', positive=True)\n",
        "\n",
        "# d1 and d2\n",
        "d1 = (log(S / K) + (r - q + sigma**2 / 2) * T) / (sigma * sqrt(T))\n",
        "d2 = d1 - sigma * sqrt(T)\n",
        "\n",
        "# The function of the standard normal distribution (formally denoted)\n",
        "N = sp.Function('N')\n",
        "\n",
        "# The price of the European call option\n",
        "C = S * exp(-q * T) * N(d1) - K * exp(-r * T) * N(d2)\n",
        "\n",
        "# European put option price (via put‑call parity)\n",
        "P = K * exp(-r * T) * N(-d2) - S * exp(-q * T) * N(-d1)\n",
        "\n",
        "# Output formulas in LaTeX format\n",
        "print(\"The formula for the European call option:\")\n",
        "display(Math(latex(C)))\n",
        "\n",
        "print(\"\\nThe formula for the European put option:\")\n",
        "display(Math(latex(P)))"
      ]
    },
    {
      "cell_type": "markdown",
      "source": [
        "There is no analytical solution for the Black-Scholes equation of American options anymore, so we will solve numerically in two ways: using explicit and implicit difference schemes."
      ],
      "metadata": {
        "id": "yHM-3jpGWUVy"
      }
    }
  ]
}